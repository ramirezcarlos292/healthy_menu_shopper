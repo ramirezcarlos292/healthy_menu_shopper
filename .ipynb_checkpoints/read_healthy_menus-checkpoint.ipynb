{
 "cells": [
  {
   "cell_type": "code",
   "execution_count": 1,
   "id": "74abd43e-2116-44fa-997b-62cf4126fb83",
   "metadata": {},
   "outputs": [],
   "source": [
    "import os\n",
    "\n",
    "def filter(list_files, extension):\n",
    "    filtered_list = []\n",
    "    for file in list_files:\n",
    "        if file[-3:] == extension:\n",
    "            filtered_list.append(file)\n",
    "    return filtered_list    \n",
    "\n",
    "path = './healthy_menus'\n",
    "list_files = os.listdir(path)\n",
    "\n",
    "filtered_list = filter(list_files, 'pdf')\n",
    "\n",
    "test_file = os.path.join(path, filtered_list[1])\n",
    "if os.path.exists(test_file):\n",
    "    pass\n",
    "else:\n",
    "    print('file does not exist')"
   ]
  },
  {
   "cell_type": "code",
   "execution_count": 2,
   "id": "ff049bbc-1315-4119-95ca-fdda67419f75",
   "metadata": {},
   "outputs": [],
   "source": [
    "## Using Tabula - https://datascientyst.com/extract-table-from-pdf-with-python-pandas/\n",
    "# from tabula import read_pdf\n",
    "# if os.path.exists(test_file):\n",
    "#     tables = read_pdf(test_file, pages = 'all')\n",
    "#     tables\n",
    "# else:\n",
    "#     print('file does not exist')"
   ]
  },
  {
   "cell_type": "code",
   "execution_count": 4,
   "id": "47f9dc4d-5962-4f6a-9e8c-89a0f2657ca0",
   "metadata": {},
   "outputs": [
    {
     "ename": "FileNotFoundError",
     "evalue": "[Errno 2] No such file or directory: './images/./healthy_menus/Alejandra Rivass 290921.pdf/page0.jpg'",
     "output_type": "error",
     "traceback": [
      "\u001b[0;31m---------------------------------------------------------------------------\u001b[0m",
      "\u001b[0;31mFileNotFoundError\u001b[0m                         Traceback (most recent call last)",
      "Cell \u001b[0;32mIn[4], line 4\u001b[0m\n\u001b[1;32m      2\u001b[0m images \u001b[38;5;241m=\u001b[39m convert_from_path(test_file)\n\u001b[1;32m      3\u001b[0m \u001b[38;5;28;01mfor\u001b[39;00m i \u001b[38;5;129;01min\u001b[39;00m \u001b[38;5;28mrange\u001b[39m(\u001b[38;5;28mlen\u001b[39m(images)):\n\u001b[0;32m----> 4\u001b[0m     \u001b[43mimages\u001b[49m\u001b[43m[\u001b[49m\u001b[43mi\u001b[49m\u001b[43m]\u001b[49m\u001b[38;5;241;43m.\u001b[39;49m\u001b[43msave\u001b[49m\u001b[43m(\u001b[49m\u001b[38;5;124;43mf\u001b[39;49m\u001b[38;5;124;43m'\u001b[39;49m\u001b[38;5;124;43m./images/\u001b[39;49m\u001b[38;5;132;43;01m{\u001b[39;49;00m\u001b[43mtest_file\u001b[49m\u001b[38;5;132;43;01m}\u001b[39;49;00m\u001b[38;5;124;43m/page\u001b[39;49m\u001b[38;5;124;43m'\u001b[39;49m\u001b[38;5;241;43m+\u001b[39;49m\u001b[43m \u001b[49m\u001b[38;5;28;43mstr\u001b[39;49m\u001b[43m(\u001b[49m\u001b[43mi\u001b[49m\u001b[43m)\u001b[49m\u001b[43m \u001b[49m\u001b[38;5;241;43m+\u001b[39;49m\u001b[38;5;124;43m'\u001b[39;49m\u001b[38;5;124;43m.jpg\u001b[39;49m\u001b[38;5;124;43m'\u001b[39;49m\u001b[43m,\u001b[49m\u001b[43m \u001b[49m\u001b[38;5;124;43m'\u001b[39;49m\u001b[38;5;124;43mJPEG\u001b[39;49m\u001b[38;5;124;43m'\u001b[39;49m\u001b[43m)\u001b[49m\n",
      "File \u001b[0;32m~/miniconda3/envs/healthy_shopper/lib/python3.9/site-packages/PIL/Image.py:2591\u001b[0m, in \u001b[0;36mImage.save\u001b[0;34m(self, fp, format, **params)\u001b[0m\n\u001b[1;32m   2589\u001b[0m         fp \u001b[38;5;241m=\u001b[39m builtins\u001b[38;5;241m.\u001b[39mopen(filename, \u001b[38;5;124m\"\u001b[39m\u001b[38;5;124mr+b\u001b[39m\u001b[38;5;124m\"\u001b[39m)\n\u001b[1;32m   2590\u001b[0m     \u001b[38;5;28;01melse\u001b[39;00m:\n\u001b[0;32m-> 2591\u001b[0m         fp \u001b[38;5;241m=\u001b[39m \u001b[43mbuiltins\u001b[49m\u001b[38;5;241;43m.\u001b[39;49m\u001b[43mopen\u001b[49m\u001b[43m(\u001b[49m\u001b[43mfilename\u001b[49m\u001b[43m,\u001b[49m\u001b[43m \u001b[49m\u001b[38;5;124;43m\"\u001b[39;49m\u001b[38;5;124;43mw+b\u001b[39;49m\u001b[38;5;124;43m\"\u001b[39;49m\u001b[43m)\u001b[49m\n\u001b[1;32m   2592\u001b[0m \u001b[38;5;28;01melse\u001b[39;00m:\n\u001b[1;32m   2593\u001b[0m     fp \u001b[38;5;241m=\u001b[39m cast(IO[\u001b[38;5;28mbytes\u001b[39m], fp)\n",
      "\u001b[0;31mFileNotFoundError\u001b[0m: [Errno 2] No such file or directory: './images/./healthy_menus/Alejandra Rivass 290921.pdf/page0.jpg'"
     ]
    }
   ],
   "source": [
    "from pdf2image import convert_from_path\n",
    "images = convert_from_path(test_file)\n",
    "for i in range(len(images)):\n",
    "    images[i].save(f'./images/{filtered_list[1]}/page'+ str(i) +'.jpg', 'JPEG')"
   ]
  },
  {
   "cell_type": "code",
   "execution_count": null,
   "id": "eabf808b-fabc-4d9a-8daf-cbd280036abc",
   "metadata": {},
   "outputs": [],
   "source": [
    "import cv2 as cv\n",
    "\n"
   ]
  }
 ],
 "metadata": {
  "kernelspec": {
   "display_name": "Python 3 (ipykernel)",
   "language": "python",
   "name": "python3"
  },
  "language_info": {
   "codemirror_mode": {
    "name": "ipython",
    "version": 3
   },
   "file_extension": ".py",
   "mimetype": "text/x-python",
   "name": "python",
   "nbconvert_exporter": "python",
   "pygments_lexer": "ipython3",
   "version": "3.9.21"
  }
 },
 "nbformat": 4,
 "nbformat_minor": 5
}
